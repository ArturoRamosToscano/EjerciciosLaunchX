{
 "cells": [
  {
   "cell_type": "markdown",
   "metadata": {},
   "source": [
    "#Modulo 0 completado\n",
    "\n",
    "![](../Imagenes/Mod00PythonVersion.jpg)\n",
    "\n",
    "Instalado VS Code, Python y Jupiter "
   ]
  }
 ],
 "metadata": {
  "language_info": {
   "name": "python"
  },
  "orig_nbformat": 4
 },
 "nbformat": 4,
 "nbformat_minor": 2
}
