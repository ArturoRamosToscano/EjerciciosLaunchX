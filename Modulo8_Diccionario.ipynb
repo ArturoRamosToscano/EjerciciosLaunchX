{
 "cells": [
  {
   "cell_type": "markdown",
   "metadata": {},
   "source": [
    "# Kata 8 - Modulo diccionario\n",
    "\n",
    "## Ejercicio 1"
   ]
  },
  {
   "cell_type": "code",
   "execution_count": 13,
   "metadata": {},
   "outputs": [
    {
     "name": "stdout",
     "output_type": "stream",
     "text": [
      "El planeta es Marte\n",
      "Las lunas de ese planeta son: 2\n"
     ]
    }
   ],
   "source": [
    "# Llenado de variable\n",
    "planetaLunas = {\n",
    "    'Planeta' : 'Marte',\n",
    "    'Lunas' : 2\n",
    "}\n",
    "# Diferentes formas de presentar el valor contenido\n",
    "print(f'El planeta es {planetaLunas.get(\"Planeta\")}')   ## Cuidar combinancion de comilla simple o doble comilla\n",
    "print(f\"Las lunas de ese planeta son: {planetaLunas['Lunas']}\")   ## Puede ser de una forma o invertida"
   ]
  },
  {
   "cell_type": "code",
   "execution_count": 15,
   "metadata": {},
   "outputs": [
    {
     "name": "stdout",
     "output_type": "stream",
     "text": [
      "El planeta es: Marte y su Circunferencia Polar es: 6752 kms\n"
     ]
    }
   ],
   "source": [
    "# Agregando circunferencias\n",
    "planetaLunas['Circunferencia (km)'] = {\n",
    "    'Polar' : 6752,\n",
    "    'Ecuatorial' : 6792\n",
    "}\n",
    "\n",
    "# Imprimir nombre del planeta con circunferencia polar\n",
    "print(f'El planeta es: {planetaLunas[\"Planeta\"]} y su Circunferencia Polar es: {planetaLunas[\"Circunferencia (km)\"][\"Polar\"]} kms')"
   ]
  },
  {
   "cell_type": "markdown",
   "metadata": {},
   "source": [
    "## Ejercicio 2"
   ]
  },
  {
   "cell_type": "code",
   "execution_count": 20,
   "metadata": {},
   "outputs": [
    {
     "name": "stdout",
     "output_type": "stream",
     "text": [
      "Lunas: dict_values([0, 0, 1, 2, 79, 82, 27, 14, 5, 2, 1, 1]) de planetas: 12\n",
      "Total de lunas: 214\n",
      "Promedio por planetas: 17.833333333333332\n"
     ]
    }
   ],
   "source": [
    "# Planetas y lunas por planeta\n",
    "lunasXPlaneta = {\n",
    "    'Mercurio': 0,\n",
    "    'Venus': 0,\n",
    "    'Tierra': 1,\n",
    "    'Marte': 2,\n",
    "    'Jupiter': 79,\n",
    "    'Saturno': 82,\n",
    "    'Urano': 27,\n",
    "    'Neptuno': 14,\n",
    "    'Pluton': 5,\n",
    "    'Haumea': 2,\n",
    "    'Makemake': 1,\n",
    "    'Eris': 1\n",
    "}\n",
    "\n",
    "# Iterando lunas y cuantos planetas se activaron\n",
    "lunas = lunasXPlaneta.values()\n",
    "planetas = len(lunasXPlaneta.keys())\n",
    "\n",
    "print(f'Lunas: {lunas} de planetas: {planetas}')\n",
    "\n",
    "# Recorriendo lunas para sumar valores\n",
    "totalLunas = 0\n",
    "for valor in lunas:\n",
    "    totalLunas += valor\n",
    "\n",
    "print(f'Total de lunas: {totalLunas}')\n",
    "\n",
    "# Promedio de lunas por planeta\n",
    "promedioLunasXPlaneta = totalLunas / planetas\n",
    "print(f'Promedio por planetas: {promedioLunasXPlaneta}')"
   ]
  }
 ],
 "metadata": {
  "interpreter": {
   "hash": "669f5abd92f1a410df15b0643b9f42360e277a412fc08ae8bc7d7911cf7e8f3d"
  },
  "kernelspec": {
   "display_name": "Python 3.10.2 64-bit",
   "language": "python",
   "name": "python3"
  },
  "language_info": {
   "name": "python",
   "version": "3.10.2"
  },
  "orig_nbformat": 4
 },
 "nbformat": 4,
 "nbformat_minor": 2
}
