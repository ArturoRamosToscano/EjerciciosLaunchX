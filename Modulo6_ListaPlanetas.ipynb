{
 "cells": [
  {
   "cell_type": "markdown",
   "metadata": {},
   "source": [
    "# Ejercicio 6 / Kata de Listados"
   ]
  },
  {
   "cell_type": "code",
   "execution_count": 3,
   "metadata": {},
   "outputs": [
    {
     "name": "stdout",
     "output_type": "stream",
     "text": [
      "Hay  8 planetas\n",
      "El último planeta agregado fue: Plutón\n"
     ]
    }
   ],
   "source": [
    "# Lista de planetas\n",
    "\n",
    "planetas = ['Mercurio', 'Venus', 'Tierra', 'Marte', 'Jupiter', 'Saturno', 'Urano', 'Neptuno']\n",
    "print('Hay ', len(planetas), 'planetas')\n",
    "\n",
    "# Agregamos a Plutón\n",
    "planetas.append(\"Plutón\")\n",
    "print('El último planeta agregado fue: {0}'.format(planetas[-1]))"
   ]
  },
  {
   "cell_type": "markdown",
   "metadata": {},
   "source": [
    "# Ejercicio 2, trabajando condatos de las listas"
   ]
  },
  {
   "cell_type": "code",
   "execution_count": 23,
   "metadata": {},
   "outputs": [
    {
     "name": "stdout",
     "output_type": "stream",
     "text": [
      "El planeta está en la posición: 4\n"
     ]
    }
   ],
   "source": [
    "planetas = ['Mercurio', 'Venus', 'Tierra', 'Marte', 'Jupiter', 'Saturno', 'Urano', 'Neptuno']\n",
    "#Solicitar el nombre de un planeta\n",
    "NombrePlaneta = input(\"Por favor ingrese el nombre de un planeta (En español)\")\n",
    "indicePlaneta = -1\n",
    "#Buscar el planeta en la lista\n",
    "for planeta in planetas:\n",
    "    if planeta.lower() == NombrePlaneta.lower():\n",
    "        indicePlaneta = planetas.index(NombrePlaneta)\n",
    "        print('El planeta está en la posición: {0}'.format(indicePlaneta))\n",
    "        break\n",
    "\n",
    "if indicePlaneta == -1:\n",
    "    print(\"El planeta escrito no existe\")"
   ]
  },
  {
   "cell_type": "code",
   "execution_count": 31,
   "metadata": {},
   "outputs": [
    {
     "name": "stdout",
     "output_type": "stream",
     "text": [
      "Su planeta es: Tierra\n",
      "Planetas mas cercanos que Tierra\n",
      "['Mercurio', 'Venus']\n",
      "Planetas mas alejados que Tierra\n",
      "['Marte', 'Jupiter', 'Saturno', 'Urano', 'Neptuno']\n"
     ]
    }
   ],
   "source": [
    "# Planetas cercanos y alejados del Sol\n",
    "#Solicitar el nombre de un planeta\n",
    "NombrePlaneta = input(\"Por favor ingrese el nombre de un planeta (En español)\")\n",
    "## Asegurar que no marque error, primero que exista lo que escribió\n",
    "indicePlaneta = -1\n",
    "for planeta in planetas:\n",
    "    if planeta.lower() == NombrePlaneta.lower():\n",
    "        indicePlaneta = planetas.index(NombrePlaneta)\n",
    "        break\n",
    "print('Su planeta es: {0}'.format(NombrePlaneta))\n",
    "if indicePlaneta != -1:\n",
    "    print('Planetas mas cercanos que ' + NombrePlaneta)\n",
    "    print(planetas[0:indicePlaneta])\n",
    "    print('Planetas mas alejados que ' + NombrePlaneta)\n",
    "    print(planetas[indicePlaneta + 1:])\n",
    "else:\n",
    "    print('Planeta no existe')\n"
   ]
  }
 ],
 "metadata": {
  "interpreter": {
   "hash": "524e92c048d54354d89e83f909febebaf49415228a096bd4266684619b5813f1"
  },
  "kernelspec": {
   "display_name": "Python 3.10.2 64-bit (windows store)",
   "language": "python",
   "name": "python3"
  },
  "language_info": {
   "codemirror_mode": {
    "name": "ipython",
    "version": 3
   },
   "file_extension": ".py",
   "mimetype": "text/x-python",
   "name": "python",
   "nbconvert_exporter": "python",
   "pygments_lexer": "ipython3",
   "version": "3.10.2"
  },
  "orig_nbformat": 4
 },
 "nbformat": 4,
 "nbformat_minor": 2
}
