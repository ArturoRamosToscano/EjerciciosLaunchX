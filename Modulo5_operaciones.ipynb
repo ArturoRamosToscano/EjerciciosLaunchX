{
 "cells": [
  {
   "cell_type": "markdown",
   "metadata": {},
   "source": [
    "# Utilizar operadores aritmeticos"
   ]
  },
  {
   "cell_type": "code",
   "execution_count": 1,
   "metadata": {},
   "outputs": [
    {
     "name": "stdout",
     "output_type": "stream",
     "text": [
      "628949330\n",
      "390577533.93\n"
     ]
    }
   ],
   "source": [
    "# Distancia entre planetas\n",
    "distanciaTierra = 149597870\n",
    "distanciaJupiter = 778547200\n",
    "\n",
    "# Calcular distancia entre planetas\n",
    "distanciaEntreTierraJupiter = distanciaJupiter - distanciaTierra\n",
    "print(distanciaEntreTierraJupiter)\n",
    "\n",
    "#Calculo en millas\n",
    "distanciaMillas = distanciaEntreTierraJupiter * 0.621\n",
    "print(distanciaMillas)"
   ]
  },
  {
   "cell_type": "markdown",
   "metadata": {},
   "source": [
    "# Nueva practica con input para distancias"
   ]
  },
  {
   "cell_type": "code",
   "execution_count": 7,
   "metadata": {},
   "outputs": [
    {
     "name": "stdout",
     "output_type": "stream",
     "text": [
      "Distancia en Km: 123000000\n",
      "Distancia en Ml: 76428656.0\n",
      "Distancia en Kms del planeta Tierra al plantena Marte: 123000000\n",
      "Distancia en Millas del planeta Tierra al plantena Marte: 76428656.0\n"
     ]
    }
   ],
   "source": [
    "nombreUno = input(\"Bienvenido, por favor ingrese el nombre del primer planeta\")\n",
    "distanciaUno = input(\"Ingrese la distancia entre el Sol y el primer planeta\")\n",
    "nombreDos = input(\"Bienvenido, por favor ingrese el nombre del segundo planeta\")\n",
    "distanciaDos = input(\"Ingrese la distancia entre el Sol y el segundo planeta\")\n",
    "# Pasar valores a enteros\n",
    "enteroUno = int(distanciaUno)\n",
    "enteroDos = int(distanciaDos)\n",
    "\n",
    "distancia = enteroDos - enteroUno\n",
    "distanciaMillas = distancia // 1.609344\n",
    "\n",
    "print('Distancia en Km: {0}'.format(distancia))\n",
    "print('Distancia en Ml: {0}'.format(abs(distanciaMillas)))\n",
    "\n",
    "print('Distancia en Kms del planeta {0} al plantena {1}: {2}'.format(nombreUno, nombreDos, distancia))\n",
    "print('Distancia en Millas del planeta {0} al plantena {1}: {2}'.format(nombreUno, nombreDos, abs(distanciaMillas)))"
   ]
  }
 ],
 "metadata": {
  "interpreter": {
   "hash": "524e92c048d54354d89e83f909febebaf49415228a096bd4266684619b5813f1"
  },
  "kernelspec": {
   "display_name": "Python 3.10.2 64-bit (windows store)",
   "language": "python",
   "name": "python3"
  },
  "language_info": {
   "codemirror_mode": {
    "name": "ipython",
    "version": 3
   },
   "file_extension": ".py",
   "mimetype": "text/x-python",
   "name": "python",
   "nbconvert_exporter": "python",
   "pygments_lexer": "ipython3",
   "version": "3.10.2"
  },
  "orig_nbformat": 4
 },
 "nbformat": 4,
 "nbformat_minor": 2
}
