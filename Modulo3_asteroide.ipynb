{
 "cells": [
  {
   "cell_type": "markdown",
   "metadata": {},
   "source": [
    "# Modulo 3 if, else, elif - Arturo Ramos"
   ]
  },
  {
   "cell_type": "code",
   "execution_count": 2,
   "metadata": {},
   "outputs": [
    {
     "name": "stdout",
     "output_type": "stream",
     "text": [
      "Asteroide en monitoreo, no hay peligro\n"
     ]
    }
   ],
   "source": [
    "# Validacion para velocidad del asteroide monitoreado\n",
    "velocidadAsteroide = 87\n",
    "velocidadMinimaAlerta = 50\n",
    "if velocidadAsteroide > velocidadMinimaAlerta:\n",
    "    print(\"Peligro inminente, asteroide acercandose\")\n",
    "else:\n",
    "    print(\"Asteroide en monitoreo, no hay peligro\")"
   ]
  },
  {
   "cell_type": "code",
   "execution_count": 7,
   "metadata": {},
   "outputs": [
    {
     "name": "stdout",
     "output_type": "stream",
     "text": [
      "Asteroide acercandose a velocidad aún no hay peligro\n"
     ]
    }
   ],
   "source": [
    "#Velocidad de asteroide que viene a la tierra\n",
    "velocidadAsteroide = 19\n",
    "velocidadMinimaAlerta = 20\n",
    "if velocidadAsteroide >= velocidadMinimaAlerta:\n",
    "    print(\"Alerta de asteroide, busque rayo de luz en el cielo\")\n",
    "elif velocidadAsteroide > 15:\n",
    "    print(\"Asteroide acercandose a velocidad aún no hay peligro\")\n",
    "else:\n",
    "    print(\"No hay peligro\")"
   ]
  },
  {
   "cell_type": "code",
   "execution_count": 12,
   "metadata": {},
   "outputs": [
    {
     "name": "stdout",
     "output_type": "stream",
     "text": [
      "Peligro, Un asteroide viene hacia la Tierra!\n"
     ]
    }
   ],
   "source": [
    "# Validaciones if, elif, else con operadores and / or\n",
    "velocidadAsteroide = 60\n",
    "tamanoAsteroide = 140\n",
    "velocidadMinimaAlerta = 50\n",
    "tamanoMinimoAlerta = 100\n",
    "\n",
    "if velocidadAsteroide > velocidadMinimaAlerta and tamanoAsteroide > tamanoMinimoAlerta:\n",
    "    print('Peligro, Un asteroide viene hacia la Tierra!')\n",
    "elif velocidadAsteroide >= velocidadMinimaAlerta:\n",
    "    print('Mire al cielo, Hay una luz mágica en el cielo!')\n",
    "elif tamanoAsteroide < tamanoMinimoAlerta:\n",
    "    print('Nada que ver aquí :)')\n",
    "else:\n",
    "    print('Nada que ver aquí :)')"
   ]
  }
 ],
 "metadata": {
  "interpreter": {
   "hash": "524e92c048d54354d89e83f909febebaf49415228a096bd4266684619b5813f1"
  },
  "kernelspec": {
   "display_name": "Python 3.10.2 64-bit (windows store)",
   "language": "python",
   "name": "python3"
  },
  "language_info": {
   "codemirror_mode": {
    "name": "ipython",
    "version": 3
   },
   "file_extension": ".py",
   "mimetype": "text/x-python",
   "name": "python",
   "nbconvert_exporter": "python",
   "pygments_lexer": "ipython3",
   "version": "3.10.2"
  },
  "orig_nbformat": 4
 },
 "nbformat": 4,
 "nbformat_minor": 2
}
