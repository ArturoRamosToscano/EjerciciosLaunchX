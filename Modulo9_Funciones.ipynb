{
 "cells": [
  {
   "cell_type": "markdown",
   "metadata": {},
   "source": [
    "# Modulo 9 - katas de funciones en Python\n",
    "\n",
    "## Ejercicio 1"
   ]
  },
  {
   "cell_type": "code",
   "execution_count": 14,
   "metadata": {},
   "outputs": [
    {
     "name": "stdout",
     "output_type": "stream",
     "text": [
      "Reporte de combustible:\n",
      "    Tanque Principal: 80%\n",
      "    Tanque Externo: 75%\n",
      "    Tanque de Hidrogeno: 30%    \n",
      "    ------------------------\n",
      "    Promedio total: 62%\n",
      "    \n"
     ]
    }
   ],
   "source": [
    "def generarRepo(tanquePrincipal, tanqueExterno, tanqueHidrogeno):\n",
    "    promedioTotal = (tanquePrincipal + tanqueExterno + tanqueHidrogeno) / 3\n",
    "\n",
    "    return f\"\"\"Reporte de combustible:\n",
    "    Tanque Principal: {tanquePrincipal}%\n",
    "    Tanque Externo: {tanqueExterno}%\n",
    "    Tanque de Hidrogeno: {tanqueHidrogeno}%    \n",
    "    ------------------------\n",
    "    Promedio Total: {round(promedioTotal)}%\n",
    "    \"\"\"\n",
    "    \n",
    "# Llamado de la funcion\n",
    "print(generarRepo(80, 75, 30))"
   ]
  },
  {
   "cell_type": "code",
   "execution_count": 16,
   "metadata": {},
   "outputs": [
    {
     "name": "stdout",
     "output_type": "stream",
     "text": [
      "Promedio de valores (45, 32, 19, 58): 38.5\n"
     ]
    }
   ],
   "source": [
    "# Creando funcion de promedio de valores\n",
    "def promedio(values):\n",
    "    suma = sum(values)\n",
    "    cantidad = len(values)\n",
    "    # return promedio\n",
    "    return suma / cantidad\n",
    "\n",
    "print(f'Promedio de valores (45, 32, 19, 58): {promedio([45, 32, 19, 58])}')"
   ]
  },
  {
   "cell_type": "code",
   "execution_count": 19,
   "metadata": {},
   "outputs": [
    {
     "name": "stdout",
     "output_type": "stream",
     "text": [
      "Reporte de combustible:\n",
      "    Tanque Principal: 50%\n",
      "    Tanque Externo: 75%\n",
      "    Tanque de Hidrogeno: 95%    \n",
      "    ------------------------\n",
      "    Promedio Total: 73%\n",
      "    \n"
     ]
    }
   ],
   "source": [
    "# Llamado de funcion dentro de otra funcion\n",
    "def generarRepo(tanquePrincipal, tanqueExterno, tanqueHidrogeno):\n",
    "    return f\"\"\"Reporte de combustible:\n",
    "    Tanque Principal: {tanquePrincipal}%\n",
    "    Tanque Externo: {tanqueExterno}%\n",
    "    Tanque de Hidrogeno: {tanqueHidrogeno}%    \n",
    "    ------------------------\n",
    "    Promedio Total: {round(promedio([tanquePrincipal, tanqueExterno, tanqueHidrogeno]))}%\n",
    "    \"\"\"\n",
    "    \n",
    "# Llamado de la funcion\n",
    "print(generarRepo(50, 75, 95))"
   ]
  },
  {
   "cell_type": "markdown",
   "metadata": {},
   "source": [
    "# Ejercicio 2"
   ]
  },
  {
   "cell_type": "code",
   "execution_count": 24,
   "metadata": {},
   "outputs": [
    {
     "name": "stdout",
     "output_type": "stream",
     "text": [
      "\n",
      "    Primer Informe para la misión\n",
      "    -----------------------------\n",
      "    Mision a: La luna\n",
      "    Tiempo total de vuelo: 62 horas\n",
      "    Total de combustible: 130 galones\n",
      "    \n"
     ]
    }
   ],
   "source": [
    "# Función con un informe preciso de la misión. Considera hora de prelanzamiento, tiempo de vuelo, destino, tanque externo y tanque interno\n",
    "def primerInforme(horaLanzamiento, tiempoVuelo, destino, tanqueExterno, tanqueInterno):\n",
    "    return f\"\"\"\n",
    "    Primer Informe para la misión\n",
    "    -----------------------------\n",
    "    Mision a: {destino}\n",
    "    Tiempo total de vuelo: {horaLanzamiento + tiempoVuelo} horas\n",
    "    Total de combustible: {tanqueInterno + tanqueExterno} galones\n",
    "    \"\"\"\n",
    "\n",
    "print(primerInforme(10, 52, \"La luna\", 80, 50))"
   ]
  },
  {
   "cell_type": "code",
   "execution_count": 35,
   "metadata": {},
   "outputs": [
    {
     "name": "stdout",
     "output_type": "stream",
     "text": [
      "\n",
      "    Segundo Informe para la misión\n",
      "    ------------------------------\n",
      "    Mision a: La luna\n",
      "    Tiempo total de vuelo: 87 horas\n",
      "    Total de combustible: 480 galones\n",
      "    ------------------------------\n",
      "    ---- Desglose por tanque: ----\n",
      "    -- tanqueInterno : 80 galones\n",
      "    -- tanqueExterno : 50 galones\n",
      "    -- combustibleRetorno : 350 galones\n"
     ]
    }
   ],
   "source": [
    "# Mismo informe pero con cantidades diferentes dentro de parametros\n",
    "def primerInforme(destino, *tiempos, **combustibles):\n",
    "    repoRegreso = f\"\"\"\n",
    "    Segundo Informe para la misión\n",
    "    ------------------------------\n",
    "    Mision a: {destino}\n",
    "    Tiempo total de vuelo: {sum(tiempos)} horas\n",
    "    Total de combustible: {sum(combustibles.values())} galones\n",
    "    ------------------------------\n",
    "    ---- Desglose por tanque: ----\"\"\"\n",
    "    for nombreTanque, galones in combustibles.items():\n",
    "        repoRegreso += f\"\\n    -- {nombreTanque} : {galones} galones\"\n",
    "    return repoRegreso\n",
    "\n",
    "print(primerInforme(\"La luna\", 10, 52, 25, tanqueInterno=80, tanqueExterno=50, combustibleRetorno=350))"
   ]
  }
 ],
 "metadata": {
  "interpreter": {
   "hash": "669f5abd92f1a410df15b0643b9f42360e277a412fc08ae8bc7d7911cf7e8f3d"
  },
  "kernelspec": {
   "display_name": "Python 3.10.2 64-bit",
   "language": "python",
   "name": "python3"
  },
  "language_info": {
   "codemirror_mode": {
    "name": "ipython",
    "version": 3
   },
   "file_extension": ".py",
   "mimetype": "text/x-python",
   "name": "python",
   "nbconvert_exporter": "python",
   "pygments_lexer": "ipython3",
   "version": "3.10.2"
  },
  "orig_nbformat": 4
 },
 "nbformat": 4,
 "nbformat_minor": 2
}
